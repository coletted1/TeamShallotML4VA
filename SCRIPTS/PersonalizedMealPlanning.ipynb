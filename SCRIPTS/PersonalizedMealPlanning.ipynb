{
 "cells": [
  {
   "cell_type": "markdown",
   "metadata": {},
   "source": [
    "# Team Shallot ML4VA Project: Personalized Meal Planning on a Budget\n",
    "\n",
    "*In today’s fast-paced world, many people struggle to maintain balanced, healthy diets that fit their preferences, budgets, and dietary needs. This is especially true for UVA students and Charlottesville residents, who often face constraints such as limited time and budgets. Our goal is to automate meal planning based on user-specific inputs, making it easier for users to create economical and nutritious meal plans.*\n",
    "\n",
    "Our project addresses the challenges faced by UVA students and Charlottesville residents in maintaining a healthy, budget-conscious diet. We are developing a personalized meal-planning application that recommends meal plans based on dietary preferences, budget, ingredient availability, and location. The application aims to promote healthier and more affordable eating habits while being accessible to low-income communities."
   ]
  },
  {
   "cell_type": "markdown",
   "metadata": {},
   "source": [
    "## 1. Data Preprocessing"
   ]
  },
  {
   "cell_type": "markdown",
   "metadata": {},
   "source": [
    "### Nutritional Information\n",
    "https://fdc.nal.usda.gov/download-datasets"
   ]
  },
  {
   "cell_type": "markdown",
   "metadata": {},
   "source": [
    "\n",
    "| **Feature**          | **Description**                             | **Example**             |\n",
    "|-----------------------|---------------------------------------------|-------------------------|\n",
    "| `fdc_id`             | Unique food identifier                      | 320020                 |\n",
    "| `description`        | Food name                                   | \"Hummus\"               |\n",
    "| `protein`            | Protein content per serving (g)             | 3.47                   |\n",
    "| `fat`                | Fat content per serving (g)                 | 8.37                   |\n",
    "| `carbohydrates`      | Carbohydrate content per serving (g)        | 4.07                   |\n",
    "| `calories`           | Total calories per serving (KCAL)           | 56                     |\n",
    "| `food_category`      | Category of food                            | \"Legumes and Products\" |\n",
    "| `serving_size`       | Serving size in grams                       | 35.8                   |\n",
    "| `serving_unit`       | Serving measurement unit                    | \"tablespoon\"           |\n",
    "| `price_per_serving`  | Cost per serving (in currency)               | 1.50                   |\n",
    "| `available_in_location` | Availability by location (region/flag)    | \"USA, EU\"              |\n"
   ]
  },
  {
   "cell_type": "code",
   "execution_count": 6,
   "metadata": {},
   "outputs": [
    {
     "name": "stderr",
     "output_type": "stream",
     "text": [
      "C:\\Users\\Colette D'Costa\\AppData\\Local\\Temp\\ipykernel_30576\\2214137745.py:9: DtypeWarning: Columns (9) have mixed types. Specify dtype option on import or set low_memory=False.\n",
      "  food_nutrient = pd.read_csv(data_folder + \"food_nutrient.csv\")\n"
     ]
    },
    {
     "name": "stdout",
     "output_type": "stream",
     "text": [
      "nutritional_information.csv saved in ../DATA/FoodData_Central_foundation_food_csv_2024-10-31/FoodData_Central_foundation_food_csv_2024-10-31/\n"
     ]
    }
   ],
   "source": [
    "import pandas as pd\n",
    "\n",
    "# Define file paths\n",
    "data_folder = \"../DATA/FoodData_Central_foundation_food_csv_2024-10-31/FoodData_Central_foundation_food_csv_2024-10-31/\"\n",
    "output_file = data_folder + \"nutritional_information.csv\"\n",
    "\n",
    "# Load relevant datasets\n",
    "food = pd.read_csv(data_folder + \"food.csv\")\n",
    "food_nutrient = pd.read_csv(data_folder + \"food_nutrient.csv\")\n",
    "nutrient = pd.read_csv(data_folder + \"nutrient.csv\")\n",
    "food_category = pd.read_csv(data_folder + \"food_category.csv\")\n",
    "food_portion = pd.read_csv(data_folder + \"food_portion.csv\")\n",
    "\n",
    "# Select required features\n",
    "# From food.csv\n",
    "food = food[['fdc_id', 'description', 'food_category_id']]\n",
    "\n",
    "# From food_nutrient.csv\n",
    "food_nutrient = food_nutrient[['fdc_id', 'nutrient_id', 'amount']]\n",
    "\n",
    "# From nutrient.csv\n",
    "nutrient = nutrient[['id', 'name', 'unit_name']]\n",
    "nutrient.columns = ['nutrient_id', 'nutrient_name', 'unit_name']\n",
    "\n",
    "# From food_category.csv\n",
    "food_category = food_category[['id', 'description']]\n",
    "food_category.columns = ['food_category_id', 'food_category']\n",
    "\n",
    "# From food_portion.csv\n",
    "food_portion = food_portion[['fdc_id', 'gram_weight']]\n",
    "\n",
    "# Merge datasets\n",
    "# 1. Add nutrient names and units to food_nutrient\n",
    "food_nutrient = food_nutrient.merge(nutrient, on='nutrient_id', how='inner')\n",
    "\n",
    "# 2. Pivot food_nutrient to have one row per food with macronutrient columns\n",
    "macronutrients = food_nutrient.pivot_table(index='fdc_id', \n",
    "                                           columns='nutrient_name', \n",
    "                                           values='amount', \n",
    "                                           aggfunc='first').reset_index()\n",
    "\n",
    "# 3. Merge macronutrients with food\n",
    "nutritional_data = food.merge(macronutrients, on='fdc_id', how='inner')\n",
    "\n",
    "# 4. Merge with food_category\n",
    "nutritional_data = nutritional_data.merge(food_category, on='food_category_id', how='inner')\n",
    "\n",
    "# 5. Add serving size information\n",
    "nutritional_data = nutritional_data.merge(food_portion, on='fdc_id', how='left')\n",
    "nutritional_data.rename(columns={'gram_weight': 'serving_size'}, inplace=True)\n",
    "\n",
    "# Rename columns for clarity\n",
    "nutritional_data = nutritional_data.rename(columns={\n",
    "    'description': 'food_name',\n",
    "    'Protein': 'protein',\n",
    "    'Total lipid (fat)': 'fat',\n",
    "    'Carbohydrate, by difference': 'carbohydrates',\n",
    "    'Energy': 'calories'\n",
    "})\n",
    "\n",
    "# Keep only relevant features\n",
    "final_columns = ['fdc_id', 'food_name', 'protein', 'fat', 'carbohydrates', 'calories', \n",
    "                 'food_category', 'serving_size']\n",
    "nutritional_data = nutritional_data[final_columns]\n",
    "\n",
    "# Save to CSV\n",
    "nutritional_data.to_csv(output_file, index=False)\n",
    "\n",
    "print(f\"nutritional_information.csv saved in {data_folder}\")\n"
   ]
  },
  {
   "cell_type": "code",
   "execution_count": 1,
   "metadata": {},
   "outputs": [
    {
     "name": "stdout",
     "output_type": "stream",
     "text": [
      "Index(['code\\turl\\tcreator\\tcreated_t\\tcreated_datetime\\tlast_modified_t\\tlast_modified_datetime\\tlast_modified_by\\tlast_updated_t\\tlast_updated_datetime\\tproduct_name\\tabbreviated_product_name\\tgeneric_name\\tquantity\\tpackaging\\tpackaging_tags\\tpackaging_en\\tpackaging_text\\tbrands\\tbrands_tags\\tcategories\\tcategories_tags\\tcategories_en\\torigins\\torigins_tags\\torigins_en\\tmanufacturing_places\\tmanufacturing_places_tags\\tlabels\\tlabels_tags\\tlabels_en\\temb_codes\\temb_codes_tags\\tfirst_packaging_code_geo\\tcities\\tcities_tags\\tpurchase_places\\tstores\\tcountries\\tcountries_tags\\tcountries_en\\tingredients_text\\tingredients_tags\\tingredients_analysis_tags\\tallergens\\tallergens_en\\ttraces\\ttraces_tags\\ttraces_en\\tserving_size\\tserving_quantity\\tno_nutrition_data\\tadditives_n\\tadditives\\tadditives_tags\\tadditives_en\\tnutriscore_score\\tnutriscore_grade\\tnova_group\\tpnns_groups_1\\tpnns_groups_2\\tfood_groups\\tfood_groups_tags\\tfood_groups_en\\tstates\\tstates_tags\\tstates_en\\tbrand_owner\\tecoscore_score\\tecoscore_grade\\tnutrient_levels_tags\\tproduct_quantity\\towner\\tdata_quality_errors_tags\\tunique_scans_n\\tpopularity_tags\\tcompleteness\\tlast_image_t\\tlast_image_datetime\\tmain_category\\tmain_category_en\\timage_url\\timage_small_url\\timage_ingredients_url\\timage_ingredients_small_url\\timage_nutrition_url\\timage_nutrition_small_url\\tenergy-kj_100g\\tenergy-kcal_100g\\tenergy_100g\\tenergy-from-fat_100g\\tfat_100g\\tsaturated-fat_100g\\tbutyric-acid_100g\\tcaproic-acid_100g\\tcaprylic-acid_100g\\tcapric-acid_100g\\tlauric-acid_100g\\tmyristic-acid_100g\\tpalmitic-acid_100g\\tstearic-acid_100g\\tarachidic-acid_100g\\tbehenic-acid_100g\\tlignoceric-acid_100g\\tcerotic-acid_100g\\tmontanic-acid_100g\\tmelissic-acid_100g\\tunsaturated-fat_100g\\tmonounsaturated-fat_100g\\tomega-9-fat_100g\\tpolyunsaturated-fat_100g\\tomega-3-fat_100g\\tomega-6-fat_100g\\talpha-linolenic-acid_100g\\teicosapentaenoic-acid_100g\\tdocosahexaenoic-acid_100g\\tlinoleic-acid_100g\\tarachidonic-acid_100g\\tgamma-linolenic-acid_100g\\tdihomo-gamma-linolenic-acid_100g\\toleic-acid_100g\\telaidic-acid_100g\\tgondoic-acid_100g\\tmead-acid_100g\\terucic-acid_100g\\tnervonic-acid_100g\\ttrans-fat_100g\\tcholesterol_100g\\tcarbohydrates_100g\\tsugars_100g\\tadded-sugars_100g\\tsucrose_100g\\tglucose_100g\\tfructose_100g\\tlactose_100g\\tmaltose_100g\\tmaltodextrins_100g\\tstarch_100g\\tpolyols_100g\\terythritol_100g\\tfiber_100g\\tsoluble-fiber_100g\\tinsoluble-fiber_100g\\tproteins_100g\\tcasein_100g\\tserum-proteins_100g\\tnucleotides_100g\\tsalt_100g\\tadded-salt_100g\\tsodium_100g\\talcohol_100g\\tvitamin-a_100g\\tbeta-carotene_100g\\tvitamin-d_100g\\tvitamin-e_100g\\tvitamin-k_100g\\tvitamin-c_100g\\tvitamin-b1_100g\\tvitamin-b2_100g\\tvitamin-pp_100g\\tvitamin-b6_100g\\tvitamin-b9_100g\\tfolates_100g\\tvitamin-b12_100g\\tbiotin_100g\\tpantothenic-acid_100g\\tsilica_100g\\tbicarbonate_100g\\tpotassium_100g\\tchloride_100g\\tcalcium_100g\\tphosphorus_100g\\tiron_100g\\tmagnesium_100g\\tzinc_100g\\tcopper_100g\\tmanganese_100g\\tfluoride_100g\\tselenium_100g\\tchromium_100g\\tmolybdenum_100g\\tiodine_100g\\tcaffeine_100g\\ttaurine_100g\\tph_100g\\tfruits-vegetables-nuts_100g\\tfruits-vegetables-nuts-dried_100g\\tfruits-vegetables-nuts-estimate_100g\\tfruits-vegetables-nuts-estimate-from-ingredients_100g\\tcollagen-meat-protein-ratio_100g\\tcocoa_100g\\tchlorophyl_100g\\tcarbon-footprint_100g\\tcarbon-footprint-from-meat-or-fish_100g\\tnutrition-score-fr_100g\\tnutrition-score-uk_100g\\tglycemic-index_100g\\twater-hardness_100g\\tcholine_100g\\tphylloquinone_100g\\tbeta-glucan_100g\\tinositol_100g\\tcarnitine_100g\\tsulphate_100g\\tnitrate_100g\\tacidity_100g'], dtype='object')\n"
     ]
    }
   ],
   "source": [
    "import pandas as pd \n",
    "\n",
    "chunk = pd.read_csv('../DATA/en.openfoodfacts.org.products.csv', nrows=5, low_memory=False)\n",
    "print(chunk.columns)\n"
   ]
  },
  {
   "cell_type": "code",
   "execution_count": 2,
   "metadata": {},
   "outputs": [
    {
     "name": "stdout",
     "output_type": "stream",
     "text": [
      "Index(['code\\turl\\tcreator\\tcreated_t\\tcreated_datetime\\tlast_modified_t\\tlast_modified_datetime\\tlast_modified_by\\tlast_updated_t\\tlast_updated_datetime\\tproduct_name\\tabbreviated_product_name\\tgeneric_name\\tquantity\\tpackaging\\tpackaging_tags\\tpackaging_en\\tpackaging_text\\tbrands\\tbrands_tags\\tcategories\\tcategories_tags\\tcategories_en\\torigins\\torigins_tags\\torigins_en\\tmanufacturing_places\\tmanufacturing_places_tags\\tlabels\\tlabels_tags\\tlabels_en\\temb_codes\\temb_codes_tags\\tfirst_packaging_code_geo\\tcities\\tcities_tags\\tpurchase_places\\tstores\\tcountries\\tcountries_tags\\tcountries_en\\tingredients_text\\tingredients_tags\\tingredients_analysis_tags\\tallergens\\tallergens_en\\ttraces\\ttraces_tags\\ttraces_en\\tserving_size\\tserving_quantity\\tno_nutrition_data\\tadditives_n\\tadditives\\tadditives_tags\\tadditives_en\\tnutriscore_score\\tnutriscore_grade\\tnova_group\\tpnns_groups_1\\tpnns_groups_2\\tfood_groups\\tfood_groups_tags\\tfood_groups_en\\tstates\\tstates_tags\\tstates_en\\tbrand_owner\\tecoscore_score\\tecoscore_grade\\tnutrient_levels_tags\\tproduct_quantity\\towner\\tdata_quality_errors_tags\\tunique_scans_n\\tpopularity_tags\\tcompleteness\\tlast_image_t\\tlast_image_datetime\\tmain_category\\tmain_category_en\\timage_url\\timage_small_url\\timage_ingredients_url\\timage_ingredients_small_url\\timage_nutrition_url\\timage_nutrition_small_url\\tenergy_kj_100g\\tenergy_kcal_100g\\tenergy_100g\\tenergy_from_fat_100g\\tfat_100g\\tsaturated_fat_100g\\tbutyric_acid_100g\\tcaproic_acid_100g\\tcaprylic_acid_100g\\tcapric_acid_100g\\tlauric_acid_100g\\tmyristic_acid_100g\\tpalmitic_acid_100g\\tstearic_acid_100g\\tarachidic_acid_100g\\tbehenic_acid_100g\\tlignoceric_acid_100g\\tcerotic_acid_100g\\tmontanic_acid_100g\\tmelissic_acid_100g\\tunsaturated_fat_100g\\tmonounsaturated_fat_100g\\tomega_9_fat_100g\\tpolyunsaturated_fat_100g\\tomega_3_fat_100g\\tomega_6_fat_100g\\talpha_linolenic_acid_100g\\teicosapentaenoic_acid_100g\\tdocosahexaenoic_acid_100g\\tlinoleic_acid_100g\\tarachidonic_acid_100g\\tgamma_linolenic_acid_100g\\tdihomo_gamma_linolenic_acid_100g\\toleic_acid_100g\\telaidic_acid_100g\\tgondoic_acid_100g\\tmead_acid_100g\\terucic_acid_100g\\tnervonic_acid_100g\\ttrans_fat_100g\\tcholesterol_100g\\tcarbohydrates_100g\\tsugars_100g\\tadded_sugars_100g\\tsucrose_100g\\tglucose_100g\\tfructose_100g\\tlactose_100g\\tmaltose_100g\\tmaltodextrins_100g\\tstarch_100g\\tpolyols_100g\\terythritol_100g\\tfiber_100g\\tsoluble_fiber_100g\\tinsoluble_fiber_100g\\tproteins_100g\\tcasein_100g\\tserum_proteins_100g\\tnucleotides_100g\\tsalt_100g\\tadded_salt_100g\\tsodium_100g\\talcohol_100g\\tvitamin_a_100g\\tbeta_carotene_100g\\tvitamin_d_100g\\tvitamin_e_100g\\tvitamin_k_100g\\tvitamin_c_100g\\tvitamin_b1_100g\\tvitamin_b2_100g\\tvitamin_pp_100g\\tvitamin_b6_100g\\tvitamin_b9_100g\\tfolates_100g\\tvitamin_b12_100g\\tbiotin_100g\\tpantothenic_acid_100g\\tsilica_100g\\tbicarbonate_100g\\tpotassium_100g\\tchloride_100g\\tcalcium_100g\\tphosphorus_100g\\tiron_100g\\tmagnesium_100g\\tzinc_100g\\tcopper_100g\\tmanganese_100g\\tfluoride_100g\\tselenium_100g\\tchromium_100g\\tmolybdenum_100g\\tiodine_100g\\tcaffeine_100g\\ttaurine_100g\\tph_100g\\tfruits_vegetables_nuts_100g\\tfruits_vegetables_nuts_dried_100g\\tfruits_vegetables_nuts_estimate_100g\\tfruits_vegetables_nuts_estimate_from_ingredients_100g\\tcollagen_meat_protein_ratio_100g\\tcocoa_100g\\tchlorophyl_100g\\tcarbon_footprint_100g\\tcarbon_footprint_from_meat_or_fish_100g\\tnutrition_score_fr_100g\\tnutrition_score_uk_100g\\tglycemic_index_100g\\twater_hardness_100g\\tcholine_100g\\tphylloquinone_100g\\tbeta_glucan_100g\\tinositol_100g\\tcarnitine_100g\\tsulphate_100g\\tnitrate_100g\\tacidity_100g'], dtype='object')\n"
     ]
    }
   ],
   "source": [
    "def clean_columns(columns):\n",
    "    return columns.str.strip().str.lower().str.replace('-', '_')\n",
    "\n",
    "chunk = pd.read_csv('../DATA/en.openfoodfacts.org.products.csv', nrows=5, low_memory=False)\n",
    "print(clean_columns(chunk.columns))\n"
   ]
  },
  {
   "cell_type": "code",
   "execution_count": 5,
   "metadata": {},
   "outputs": [
    {
     "name": "stdout",
     "output_type": "stream",
     "text": [
      "Index(['code', 'url', 'creator', 'created_t', 'created_datetime',\n",
      "       'last_modified_t', 'last_modified_datetime', 'last_modified_by',\n",
      "       'last_updated_t', 'last_updated_datetime',\n",
      "       ...\n",
      "       'glycemic-index_100g', 'water-hardness_100g', 'choline_100g',\n",
      "       'phylloquinone_100g', 'beta-glucan_100g', 'inositol_100g',\n",
      "       'carnitine_100g', 'sulphate_100g', 'nitrate_100g', 'acidity_100g'],\n",
      "      dtype='object', length=206)\n"
     ]
    }
   ],
   "source": [
    "for chunk in pd.read_csv('../DATA/en.openfoodfacts.org.products.csv', chunksize=1000, sep='\\t', on_bad_lines=\"skip\", low_memory=False):\n",
    "    print(chunk.columns)\n",
    "    break\n"
   ]
  },
  {
   "cell_type": "code",
   "execution_count": 9,
   "metadata": {},
   "outputs": [
    {
     "name": "stdout",
     "output_type": "stream",
     "text": [
      "starting chunk  1\n",
      "starting chunk  2\n",
      "starting chunk  3\n",
      "starting chunk  4\n",
      "starting chunk  5\n",
      "starting chunk  6\n",
      "starting chunk  7\n",
      "starting chunk  8\n",
      "starting chunk  9\n",
      "starting chunk  10\n",
      "starting chunk  11\n",
      "starting chunk  12\n",
      "starting chunk  13\n",
      "starting chunk  14\n",
      "starting chunk  15\n",
      "starting chunk  16\n",
      "starting chunk  17\n",
      "starting chunk  18\n",
      "starting chunk  19\n",
      "starting chunk  20\n",
      "starting chunk  21\n",
      "starting chunk  22\n",
      "starting chunk  23\n",
      "starting chunk  24\n",
      "starting chunk  25\n",
      "starting chunk  26\n",
      "starting chunk  27\n",
      "starting chunk  28\n",
      "starting chunk  29\n",
      "starting chunk  30\n",
      "starting chunk  31\n",
      "starting chunk  32\n",
      "starting chunk  33\n",
      "starting chunk  34\n",
      "starting chunk  35\n",
      "starting chunk  36\n",
      "                        product_name abbreviated_product_name generic_name  \\\n",
      "0  Purée Mix Tropical Harmony + Aloe                      NaN          NaN   \n",
      "1  Matcha organic Japanese green tea                      NaN          NaN   \n",
      "2           Slim Jim snack size mild                      NaN          NaN   \n",
      "3                           Marinara                      NaN          NaN   \n",
      "4                         Bio inulin                      NaN          NaN   \n",
      "\n",
      "             categories                                             labels  \\\n",
      "0                syrups  No gluten, Vegetarian, No artificial flavors, ...   \n",
      "1  Bebidas instantáneas      Organic, EU Organic, FR-BIO-01, en:nutriscore   \n",
      "2           Smoked meat                                      en:no-alcohol   \n",
      "3                sample  FSC Mix,CH-BIO-006,Certified B Corporation,Soi...   \n",
      "4                Gemüse                                      en:no-lactose   \n",
      "\n",
      "           brands  energy-kcal_100g   fat_100g  saturated-fat_100g  \\\n",
      "0          Punuts        360.000000  10.000000                1.00   \n",
      "1             Zen               NaN        NaN                 NaN   \n",
      "2  Conagra Brands        137.000000   2.970000                0.65   \n",
      "3    Newman's own         56.451613   2.016129               21.50   \n",
      "4             EWL        208.000000   0.000000                0.00   \n",
      "\n",
      "   carbohydrates_100g  sugars_100g  fiber_100g  proteins_100g  salt_100g  \\\n",
      "0            9.000000         8.00   13.000000      49.000000      0.020   \n",
      "1                 NaN          NaN         NaN            NaN        NaN   \n",
      "2           16.330000         4.27    1.110000      10.200000      0.535   \n",
      "3            8.064516        35.00    1.612903       1.612903      0.000   \n",
      "4            8.000000         8.00   88.000000       0.000000      0.230   \n",
      "\n",
      "  nutriscore_grade  nova_group  \n",
      "0                a         4.0  \n",
      "1          unknown         NaN  \n",
      "2                a         NaN  \n",
      "3                e         3.0  \n",
      "4                a         3.0  \n"
     ]
    }
   ],
   "source": [
    "import pandas as pd\n",
    "\n",
    "# List of important features to retain\n",
    "important_features = [\n",
    "    \"product_name\",\n",
    "    \"abbreviated_product_name\",\n",
    "    \"generic_name\",\n",
    "    \"categories\",\n",
    "    \"labels\",\n",
    "    \"brands\",\n",
    "    \"energy-kcal_100g\",\n",
    "    \"fat_100g\",\n",
    "    \"saturated-fat_100g\",\n",
    "    \"carbohydrates_100g\",\n",
    "    \"sugars_100g\",\n",
    "    \"fiber_100g\",\n",
    "    \"proteins_100g\",\n",
    "    \"salt_100g\",\n",
    "    \"nutriscore_grade\",\n",
    "    \"nova_group\"\n",
    "]\n",
    "\n",
    "# File paths\n",
    "input_file = \"../DATA/en.openfoodfacts.org.products.csv\"\n",
    "output_file = \"../DATA/nutritional_information.csv\"\n",
    "\n",
    "# Initialize an empty DataFrame to store processed chunks\n",
    "filtered_data = pd.DataFrame()\n",
    "\n",
    "# Read the dataset in chunks with tab-delimited format\n",
    "chunk_size = 100000\n",
    "i = 1\n",
    "for chunk in pd.read_csv(input_file, chunksize=chunk_size, sep='\\t', on_bad_lines=\"skip\", low_memory=False):\n",
    "    print(\"starting chunk \", i)\n",
    "    # Filter the chunk for the important features\n",
    "    filtered_chunk = chunk[important_features].dropna(how=\"all\")  # Remove rows with all NaN values\n",
    "    # Append the filtered chunk to the output DataFrame\n",
    "    filtered_data = pd.concat([filtered_data, filtered_chunk], ignore_index=True)\n",
    "    i = i + 1\n",
    "\n",
    "# Save the filtered dataset\n",
    "filtered_data.to_csv(output_file, index=False)\n",
    "\n",
    "# Display the first few rows of the filtered DataFrame\n",
    "print(filtered_data.head())\n"
   ]
  },
  {
   "cell_type": "code",
   "execution_count": 11,
   "metadata": {},
   "outputs": [
    {
     "name": "stdout",
     "output_type": "stream",
     "text": [
      "c:\\Users\\Colette D'Costa\\CS4774\\TeamShallotML4VA\\SCRIPTS\n"
     ]
    }
   ],
   "source": [
    "import os\n",
    "print(os.getcwd())\n"
   ]
  }
 ],
 "metadata": {
  "kernelspec": {
   "display_name": "Python 3",
   "language": "python",
   "name": "python3"
  },
  "language_info": {
   "codemirror_mode": {
    "name": "ipython",
    "version": 3
   },
   "file_extension": ".py",
   "mimetype": "text/x-python",
   "name": "python",
   "nbconvert_exporter": "python",
   "pygments_lexer": "ipython3",
   "version": "3.12.4"
  }
 },
 "nbformat": 4,
 "nbformat_minor": 2
}
