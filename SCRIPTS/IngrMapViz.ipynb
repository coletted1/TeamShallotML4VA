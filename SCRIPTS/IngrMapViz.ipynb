{
 "cells": [
  {
   "cell_type": "code",
   "execution_count": 3,
   "metadata": {},
   "outputs": [
    {
     "name": "stdout",
     "output_type": "stream",
     "text": [
      "<class 'pandas.core.frame.DataFrame'>\n",
      "                                                raw_ingr  raw_words   \n",
      "0      medium heads bibb or red leaf lettuce, washed,...         13  \\\n",
      "1                  mixed baby lettuces and spring greens          6   \n",
      "2                                   romaine lettuce leaf          3   \n",
      "3                                   iceberg lettuce leaf          3   \n",
      "4                                    red romaine lettuce          3   \n",
      "...                                                  ...        ...   \n",
      "11654                                           soybeans          1   \n",
      "11655                                              goose          1   \n",
      "11656                                             ajwain          1   \n",
      "11657                                           brinjals          1   \n",
      "11658                                              khoya          1   \n",
      "\n",
      "                                               processed  len_proc replaced   \n",
      "0      medium heads bibb or red leaf lettuce, washed,...        73  lettuce  \\\n",
      "1                   mixed baby lettuces and spring green        36  lettuce   \n",
      "2                                   romaine lettuce leaf        20  lettuce   \n",
      "3                                   iceberg lettuce leaf        20  lettuce   \n",
      "4                                    red romaine lettuce        19  lettuce   \n",
      "...                                                  ...       ...      ...   \n",
      "11654                                            soybean         7  soybean   \n",
      "11655                                              goose         5    goose   \n",
      "11656                                             ajwain         6   ajwain   \n",
      "11657                                            brinjal         7  brinjal   \n",
      "11658                                              khoya         5    khoya   \n",
      "\n",
      "       count    id  \n",
      "0       4507  4308  \n",
      "1       4507  4308  \n",
      "2       4507  4308  \n",
      "3       4507  4308  \n",
      "4       4507  4308  \n",
      "...      ...   ...  \n",
      "11654     31  6702  \n",
      "11655      8  3318  \n",
      "11656     13    47  \n",
      "11657      2   750  \n",
      "11658      6  4061  \n",
      "\n",
      "[11659 rows x 7 columns]\n"
     ]
    }
   ],
   "source": [
    "import pickle\n",
    "\n",
    "file_path = '../my_app/data/ingr_map.pkl'\n",
    "\n",
    "with open(file_path, 'rb') as file:\n",
    "    ingr_map = pickle.load(file)\n",
    "\n",
    "print(type(ingr_map))\n",
    "print(ingr_map)\n",
    "\n"
   ]
  },
  {
   "cell_type": "code",
   "execution_count": 4,
   "metadata": {},
   "outputs": [
    {
     "name": "stdout",
     "output_type": "stream",
     "text": [
      "<class 'pandas.core.frame.DataFrame'>\n",
      "Int64Index: 11659 entries, 0 to 11658\n",
      "Data columns (total 7 columns):\n",
      " #   Column     Non-Null Count  Dtype \n",
      "---  ------     --------------  ----- \n",
      " 0   raw_ingr   11659 non-null  object\n",
      " 1   raw_words  11659 non-null  int64 \n",
      " 2   processed  11659 non-null  object\n",
      " 3   len_proc   11659 non-null  int64 \n",
      " 4   replaced   11659 non-null  object\n",
      " 5   count      11659 non-null  int64 \n",
      " 6   id         11659 non-null  int16 \n",
      "dtypes: int16(1), int64(3), object(3)\n",
      "memory usage: 660.4+ KB\n",
      "None\n",
      "                                            raw_ingr  raw_words   \n",
      "0  medium heads bibb or red leaf lettuce, washed,...         13  \\\n",
      "1              mixed baby lettuces and spring greens          6   \n",
      "2                               romaine lettuce leaf          3   \n",
      "3                               iceberg lettuce leaf          3   \n",
      "4                                red romaine lettuce          3   \n",
      "\n",
      "                                           processed  len_proc replaced   \n",
      "0  medium heads bibb or red leaf lettuce, washed,...        73  lettuce  \\\n",
      "1               mixed baby lettuces and spring green        36  lettuce   \n",
      "2                               romaine lettuce leaf        20  lettuce   \n",
      "3                               iceberg lettuce leaf        20  lettuce   \n",
      "4                                red romaine lettuce        19  lettuce   \n",
      "\n",
      "   count    id  \n",
      "0   4507  4308  \n",
      "1   4507  4308  \n",
      "2   4507  4308  \n",
      "3   4507  4308  \n",
      "4   4507  4308  \n",
      "          raw_words      len_proc         count            id\n",
      "count  11659.000000  11659.000000  11659.000000  11659.000000\n",
      "mean       2.732653     15.687538    936.574320   3959.409898\n",
      "std        1.161798      6.498827   3333.984156   2350.276608\n",
      "min        1.000000      1.000000      2.000000      0.000000\n",
      "25%        2.000000     11.000000      5.000000   1838.000000\n",
      "50%        3.000000     15.000000     26.000000   3975.000000\n",
      "75%        3.000000     19.000000    255.000000   6077.500000\n",
      "max       13.000000     73.000000  72848.000000   8022.000000\n"
     ]
    }
   ],
   "source": [
    "# Basic information\n",
    "print(ingr_map.info())\n",
    "\n",
    "# Display first few rows\n",
    "print(ingr_map.head())\n",
    "\n",
    "# Summary statistics\n",
    "print(ingr_map.describe())\n"
   ]
  },
  {
   "cell_type": "code",
   "execution_count": 14,
   "metadata": {},
   "outputs": [
    {
     "ename": "NameError",
     "evalue": "name 'pd' is not defined",
     "output_type": "error",
     "traceback": [
      "\u001b[1;31m---------------------------------------------------------------------------\u001b[0m",
      "\u001b[1;31mNameError\u001b[0m                                 Traceback (most recent call last)",
      "Cell \u001b[1;32mIn[14], line 4\u001b[0m\n\u001b[0;32m      1\u001b[0m \u001b[38;5;28;01mimport\u001b[39;00m \u001b[38;5;21;01mnumpy\u001b[39;00m \u001b[38;5;28;01mas\u001b[39;00m \u001b[38;5;21;01mnp\u001b[39;00m\n\u001b[0;32m      3\u001b[0m \u001b[38;5;66;03m# Convert to a NumPy array and back to DataFrame\u001b[39;00m\n\u001b[1;32m----> 4\u001b[0m ingr_map \u001b[38;5;241m=\u001b[39m \u001b[43mpd\u001b[49m\u001b[38;5;241m.\u001b[39mDataFrame(np\u001b[38;5;241m.\u001b[39marray(ingr_map), columns\u001b[38;5;241m=\u001b[39mingr_map\u001b[38;5;241m.\u001b[39mcolumns)\n\u001b[0;32m      6\u001b[0m \u001b[38;5;66;03m# Save the cleaned DataFrame as CSV\u001b[39;00m\n\u001b[0;32m      7\u001b[0m ingr_map\u001b[38;5;241m.\u001b[39mto_csv(\u001b[38;5;124m'\u001b[39m\u001b[38;5;124mingr_map_clean.csv\u001b[39m\u001b[38;5;124m'\u001b[39m, index\u001b[38;5;241m=\u001b[39m\u001b[38;5;28;01mFalse\u001b[39;00m)\n",
      "\u001b[1;31mNameError\u001b[0m: name 'pd' is not defined"
     ]
    }
   ],
   "source": [
    "import numpy as np\n",
    "\n",
    "# Convert to a NumPy array and back to DataFrame\n",
    "ingr_map = pd.DataFrame(np.array(ingr_map), columns=ingr_map.columns)\n",
    "\n",
    "# Save the cleaned DataFrame as CSV\n",
    "ingr_map.to_csv('ingr_map_clean.csv', index=False)"
   ]
  },
  {
   "cell_type": "code",
   "execution_count": null,
   "metadata": {},
   "outputs": [
    {
     "ename": "AttributeError",
     "evalue": "'Index' object has no attribute '_format_native_types'",
     "output_type": "error",
     "traceback": [
      "\u001b[1;31m---------------------------------------------------------------------------\u001b[0m",
      "\u001b[1;31mAttributeError\u001b[0m                            Traceback (most recent call last)",
      "Cell \u001b[1;32mIn[13], line 6\u001b[0m\n\u001b[0;32m      1\u001b[0m \u001b[38;5;66;03m# Save as CSV\u001b[39;00m\n\u001b[0;32m      2\u001b[0m \u001b[38;5;66;03m# Reset the index to avoid any issues with the DataFrame's structure\u001b[39;00m\n\u001b[0;32m      3\u001b[0m ingr_map \u001b[38;5;241m=\u001b[39m ingr_map\u001b[38;5;241m.\u001b[39mreset_index(drop\u001b[38;5;241m=\u001b[39m\u001b[38;5;28;01mTrue\u001b[39;00m)\n\u001b[1;32m----> 6\u001b[0m \u001b[43mingr_map\u001b[49m\u001b[38;5;241;43m.\u001b[39;49m\u001b[43mto_csv\u001b[49m\u001b[43m(\u001b[49m\u001b[38;5;124;43m'\u001b[39;49m\u001b[38;5;124;43m../my_app/data/ingr_map.csv\u001b[39;49m\u001b[38;5;124;43m'\u001b[39;49m\u001b[43m,\u001b[49m\u001b[43m \u001b[49m\u001b[43mindex\u001b[49m\u001b[38;5;241;43m=\u001b[39;49m\u001b[38;5;28;43;01mFalse\u001b[39;49;00m\u001b[43m)\u001b[49m\n\u001b[0;32m      8\u001b[0m \u001b[38;5;66;03m# Save as Parquet (for large datasets)\u001b[39;00m\n\u001b[0;32m      9\u001b[0m ingr_map\u001b[38;5;241m.\u001b[39mto_parquet(\u001b[38;5;124m'\u001b[39m\u001b[38;5;124m../my_app/data/ingr_map.parquet\u001b[39m\u001b[38;5;124m'\u001b[39m, index\u001b[38;5;241m=\u001b[39m\u001b[38;5;28;01mFalse\u001b[39;00m)\n",
      "File \u001b[1;32mc:\\Users\\Colette D'Costa\\AppData\\Local\\Programs\\Python\\Python312\\Lib\\site-packages\\pandas\\util\\_decorators.py:333\u001b[0m, in \u001b[0;36mwrapper\u001b[1;34m(*args, **kwargs)\u001b[0m\n\u001b[0;32m    326\u001b[0m         warnings.warn(\n\u001b[0;32m    327\u001b[0m             msg.format(arguments=_format_argument_list(allow_args)),\n\u001b[0;32m    328\u001b[0m             FutureWarning,\n\u001b[0;32m    329\u001b[0m             stacklevel=find_stack_level(),\n\u001b[0;32m    330\u001b[0m         )\n\u001b[0;32m    331\u001b[0m     return func(*args, **kwargs)\n\u001b[1;32m--> 333\u001b[0m # error: \"Callable[[VarArg(Any), KwArg(Any)], Any]\" has no\n\u001b[0;32m    334\u001b[0m # attribute \"__signature__\"\n\u001b[0;32m    335\u001b[0m wrapper.__signature__ = new_sig  # type: ignore[attr-defined]\n\u001b[0;32m    336\u001b[0m return wrapper\n",
      "File \u001b[1;32mc:\\Users\\Colette D'Costa\\AppData\\Local\\Programs\\Python\\Python312\\Lib\\site-packages\\pandas\\core\\generic.py:3967\u001b[0m, in \u001b[0;36mto_csv\u001b[1;34m(self, path_or_buf, sep, na_rep, float_format, columns, header, index, index_label, mode, encoding, compression, quoting, quotechar, lineterminator, chunksize, date_format, doublequote, escapechar, decimal, errors, storage_options)\u001b[0m\n\u001b[0;32m   3908\u001b[0m \u001b[38;5;129m@final\u001b[39m\n\u001b[0;32m   3909\u001b[0m \u001b[38;5;28;01mdef\u001b[39;00m \u001b[38;5;21mxs\u001b[39m(\n\u001b[0;32m   3910\u001b[0m     \u001b[38;5;28mself\u001b[39m: NDFrameT,\n\u001b[1;32m   (...)\u001b[0m\n\u001b[0;32m   3914\u001b[0m     drop_level: bool_t \u001b[38;5;241m=\u001b[39m \u001b[38;5;28;01mTrue\u001b[39;00m,\n\u001b[0;32m   3915\u001b[0m ) \u001b[38;5;241m-\u001b[39m\u001b[38;5;241m>\u001b[39m NDFrameT:\n\u001b[0;32m   3916\u001b[0m \u001b[38;5;250m    \u001b[39m\u001b[38;5;124;03m\"\"\"\u001b[39;00m\n\u001b[0;32m   3917\u001b[0m \u001b[38;5;124;03m    Return cross-section from the Series/DataFrame.\u001b[39;00m\n\u001b[0;32m   3918\u001b[0m \n\u001b[0;32m   3919\u001b[0m \u001b[38;5;124;03m    This method takes a `key` argument to select data at a particular\u001b[39;00m\n\u001b[0;32m   3920\u001b[0m \u001b[38;5;124;03m    level of a MultiIndex.\u001b[39;00m\n\u001b[0;32m   3921\u001b[0m \n\u001b[0;32m   3922\u001b[0m \u001b[38;5;124;03m    Parameters\u001b[39;00m\n\u001b[0;32m   3923\u001b[0m \u001b[38;5;124;03m    ----------\u001b[39;00m\n\u001b[0;32m   3924\u001b[0m \u001b[38;5;124;03m    key : label or tuple of label\u001b[39;00m\n\u001b[0;32m   3925\u001b[0m \u001b[38;5;124;03m        Label contained in the index, or partially in a MultiIndex.\u001b[39;00m\n\u001b[0;32m   3926\u001b[0m \u001b[38;5;124;03m    axis : {0 or 'index', 1 or 'columns'}, default 0\u001b[39;00m\n\u001b[0;32m   3927\u001b[0m \u001b[38;5;124;03m        Axis to retrieve cross-section on.\u001b[39;00m\n\u001b[0;32m   3928\u001b[0m \u001b[38;5;124;03m    level : object, defaults to first n levels (n=1 or len(key))\u001b[39;00m\n\u001b[0;32m   3929\u001b[0m \u001b[38;5;124;03m        In case of a key partially contained in a MultiIndex, indicate\u001b[39;00m\n\u001b[0;32m   3930\u001b[0m \u001b[38;5;124;03m        which levels are used. Levels can be referred by label or position.\u001b[39;00m\n\u001b[0;32m   3931\u001b[0m \u001b[38;5;124;03m    drop_level : bool, default True\u001b[39;00m\n\u001b[0;32m   3932\u001b[0m \u001b[38;5;124;03m        If False, returns object with same levels as self.\u001b[39;00m\n\u001b[0;32m   3933\u001b[0m \n\u001b[0;32m   3934\u001b[0m \u001b[38;5;124;03m    Returns\u001b[39;00m\n\u001b[0;32m   3935\u001b[0m \u001b[38;5;124;03m    -------\u001b[39;00m\n\u001b[0;32m   3936\u001b[0m \u001b[38;5;124;03m    Series or DataFrame\u001b[39;00m\n\u001b[0;32m   3937\u001b[0m \u001b[38;5;124;03m        Cross-section from the original Series or DataFrame\u001b[39;00m\n\u001b[0;32m   3938\u001b[0m \u001b[38;5;124;03m        corresponding to the selected index levels.\u001b[39;00m\n\u001b[0;32m   3939\u001b[0m \n\u001b[0;32m   3940\u001b[0m \u001b[38;5;124;03m    See Also\u001b[39;00m\n\u001b[0;32m   3941\u001b[0m \u001b[38;5;124;03m    --------\u001b[39;00m\n\u001b[0;32m   3942\u001b[0m \u001b[38;5;124;03m    DataFrame.loc : Access a group of rows and columns\u001b[39;00m\n\u001b[0;32m   3943\u001b[0m \u001b[38;5;124;03m        by label(s) or a boolean array.\u001b[39;00m\n\u001b[0;32m   3944\u001b[0m \u001b[38;5;124;03m    DataFrame.iloc : Purely integer-location based indexing\u001b[39;00m\n\u001b[0;32m   3945\u001b[0m \u001b[38;5;124;03m        for selection by position.\u001b[39;00m\n\u001b[0;32m   3946\u001b[0m \n\u001b[0;32m   3947\u001b[0m \u001b[38;5;124;03m    Notes\u001b[39;00m\n\u001b[0;32m   3948\u001b[0m \u001b[38;5;124;03m    -----\u001b[39;00m\n\u001b[0;32m   3949\u001b[0m \u001b[38;5;124;03m    `xs` can not be used to set values.\u001b[39;00m\n\u001b[0;32m   3950\u001b[0m \n\u001b[0;32m   3951\u001b[0m \u001b[38;5;124;03m    MultiIndex Slicers is a generic way to get/set values on\u001b[39;00m\n\u001b[0;32m   3952\u001b[0m \u001b[38;5;124;03m    any level or levels.\u001b[39;00m\n\u001b[0;32m   3953\u001b[0m \u001b[38;5;124;03m    It is a superset of `xs` functionality, see\u001b[39;00m\n\u001b[0;32m   3954\u001b[0m \u001b[38;5;124;03m    :ref:`MultiIndex Slicers <advanced.mi_slicers>`.\u001b[39;00m\n\u001b[0;32m   3955\u001b[0m \n\u001b[0;32m   3956\u001b[0m \u001b[38;5;124;03m    Examples\u001b[39;00m\n\u001b[0;32m   3957\u001b[0m \u001b[38;5;124;03m    --------\u001b[39;00m\n\u001b[0;32m   3958\u001b[0m \u001b[38;5;124;03m    >>> d = {'num_legs': [4, 4, 2, 2],\u001b[39;00m\n\u001b[0;32m   3959\u001b[0m \u001b[38;5;124;03m    ...      'num_wings': [0, 0, 2, 2],\u001b[39;00m\n\u001b[0;32m   3960\u001b[0m \u001b[38;5;124;03m    ...      'class': ['mammal', 'mammal', 'mammal', 'bird'],\u001b[39;00m\n\u001b[0;32m   3961\u001b[0m \u001b[38;5;124;03m    ...      'animal': ['cat', 'dog', 'bat', 'penguin'],\u001b[39;00m\n\u001b[0;32m   3962\u001b[0m \u001b[38;5;124;03m    ...      'locomotion': ['walks', 'walks', 'flies', 'walks']}\u001b[39;00m\n\u001b[0;32m   3963\u001b[0m \u001b[38;5;124;03m    >>> df = pd.DataFrame(data=d)\u001b[39;00m\n\u001b[0;32m   3964\u001b[0m \u001b[38;5;124;03m    >>> df = df.set_index(['class', 'animal', 'locomotion'])\u001b[39;00m\n\u001b[0;32m   3965\u001b[0m \u001b[38;5;124;03m    >>> df\u001b[39;00m\n\u001b[0;32m   3966\u001b[0m \u001b[38;5;124;03m                               num_legs  num_wings\u001b[39;00m\n\u001b[1;32m-> 3967\u001b[0m \u001b[38;5;124;03m    class  animal  locomotion\u001b[39;00m\n\u001b[0;32m   3968\u001b[0m \u001b[38;5;124;03m    mammal cat     walks              4          0\u001b[39;00m\n\u001b[0;32m   3969\u001b[0m \u001b[38;5;124;03m           dog     walks              4          0\u001b[39;00m\n\u001b[0;32m   3970\u001b[0m \u001b[38;5;124;03m           bat     flies              2          2\u001b[39;00m\n\u001b[0;32m   3971\u001b[0m \u001b[38;5;124;03m    bird   penguin walks              2          2\u001b[39;00m\n\u001b[0;32m   3972\u001b[0m \n\u001b[0;32m   3973\u001b[0m \u001b[38;5;124;03m    Get values at specified index\u001b[39;00m\n\u001b[0;32m   3974\u001b[0m \n\u001b[0;32m   3975\u001b[0m \u001b[38;5;124;03m    >>> df.xs('mammal')\u001b[39;00m\n\u001b[0;32m   3976\u001b[0m \u001b[38;5;124;03m                       num_legs  num_wings\u001b[39;00m\n\u001b[0;32m   3977\u001b[0m \u001b[38;5;124;03m    animal locomotion\u001b[39;00m\n\u001b[0;32m   3978\u001b[0m \u001b[38;5;124;03m    cat    walks              4          0\u001b[39;00m\n\u001b[0;32m   3979\u001b[0m \u001b[38;5;124;03m    dog    walks              4          0\u001b[39;00m\n\u001b[0;32m   3980\u001b[0m \u001b[38;5;124;03m    bat    flies              2          2\u001b[39;00m\n\u001b[0;32m   3981\u001b[0m \n\u001b[0;32m   3982\u001b[0m \u001b[38;5;124;03m    Get values at several indexes\u001b[39;00m\n\u001b[0;32m   3983\u001b[0m \n\u001b[0;32m   3984\u001b[0m \u001b[38;5;124;03m    >>> df.xs(('mammal', 'dog'))\u001b[39;00m\n\u001b[0;32m   3985\u001b[0m \u001b[38;5;124;03m                num_legs  num_wings\u001b[39;00m\n\u001b[0;32m   3986\u001b[0m \u001b[38;5;124;03m    locomotion\u001b[39;00m\n\u001b[0;32m   3987\u001b[0m \u001b[38;5;124;03m    walks              4          0\u001b[39;00m\n\u001b[0;32m   3988\u001b[0m \n\u001b[0;32m   3989\u001b[0m \u001b[38;5;124;03m    Get values at specified index and level\u001b[39;00m\n\u001b[0;32m   3990\u001b[0m \n\u001b[0;32m   3991\u001b[0m \u001b[38;5;124;03m    >>> df.xs('cat', level=1)\u001b[39;00m\n\u001b[0;32m   3992\u001b[0m \u001b[38;5;124;03m                       num_legs  num_wings\u001b[39;00m\n\u001b[0;32m   3993\u001b[0m \u001b[38;5;124;03m    class  locomotion\u001b[39;00m\n\u001b[0;32m   3994\u001b[0m \u001b[38;5;124;03m    mammal walks              4          0\u001b[39;00m\n\u001b[0;32m   3995\u001b[0m \n\u001b[0;32m   3996\u001b[0m \u001b[38;5;124;03m    Get values at several indexes and levels\u001b[39;00m\n\u001b[0;32m   3997\u001b[0m \n\u001b[0;32m   3998\u001b[0m \u001b[38;5;124;03m    >>> df.xs(('bird', 'walks'),\u001b[39;00m\n\u001b[0;32m   3999\u001b[0m \u001b[38;5;124;03m    ...       level=[0, 'locomotion'])\u001b[39;00m\n\u001b[0;32m   4000\u001b[0m \u001b[38;5;124;03m             num_legs  num_wings\u001b[39;00m\n\u001b[0;32m   4001\u001b[0m \u001b[38;5;124;03m    animal\u001b[39;00m\n\u001b[0;32m   4002\u001b[0m \u001b[38;5;124;03m    penguin         2          2\u001b[39;00m\n\u001b[0;32m   4003\u001b[0m \n\u001b[0;32m   4004\u001b[0m \u001b[38;5;124;03m    Get values at specified column and axis\u001b[39;00m\n\u001b[0;32m   4005\u001b[0m \n\u001b[0;32m   4006\u001b[0m \u001b[38;5;124;03m    >>> df.xs('num_wings', axis=1)\u001b[39;00m\n\u001b[0;32m   4007\u001b[0m \u001b[38;5;124;03m    class   animal   locomotion\u001b[39;00m\n\u001b[0;32m   4008\u001b[0m \u001b[38;5;124;03m    mammal  cat      walks         0\u001b[39;00m\n\u001b[0;32m   4009\u001b[0m \u001b[38;5;124;03m            dog      walks         0\u001b[39;00m\n\u001b[0;32m   4010\u001b[0m \u001b[38;5;124;03m            bat      flies         2\u001b[39;00m\n\u001b[0;32m   4011\u001b[0m \u001b[38;5;124;03m    bird    penguin  walks         2\u001b[39;00m\n\u001b[0;32m   4012\u001b[0m \u001b[38;5;124;03m    Name: num_wings, dtype: int64\u001b[39;00m\n\u001b[0;32m   4013\u001b[0m \u001b[38;5;124;03m    \"\"\"\u001b[39;00m\n\u001b[0;32m   4014\u001b[0m     axis \u001b[38;5;241m=\u001b[39m \u001b[38;5;28mself\u001b[39m\u001b[38;5;241m.\u001b[39m_get_axis_number(axis)\n\u001b[0;32m   4015\u001b[0m     labels \u001b[38;5;241m=\u001b[39m \u001b[38;5;28mself\u001b[39m\u001b[38;5;241m.\u001b[39m_get_axis(axis)\n",
      "File \u001b[1;32mc:\\Users\\Colette D'Costa\\AppData\\Local\\Programs\\Python\\Python312\\Lib\\site-packages\\pandas\\io\\formats\\format.py:995\u001b[0m, in \u001b[0;36mto_csv\u001b[1;34m(self, path_or_buf, encoding, sep, columns, index_label, mode, compression, quoting, quotechar, lineterminator, chunksize, date_format, doublequote, escapechar, errors, storage_options)\u001b[0m\n\u001b[0;32m    992\u001b[0m \u001b[38;5;28;01melse\u001b[39;00m:\n\u001b[0;32m    993\u001b[0m     col_header \u001b[38;5;241m=\u001b[39m [\u001b[38;5;124m\"\u001b[39m\u001b[38;5;124m\"\u001b[39m] \u001b[38;5;241m*\u001b[39m columns\u001b[38;5;241m.\u001b[39mnlevels\n\u001b[1;32m--> 995\u001b[0m \u001b[38;5;28;01mif\u001b[39;00m \u001b[38;5;28mself\u001b[39m\u001b[38;5;241m.\u001b[39mheader:\n\u001b[0;32m    996\u001b[0m     \u001b[38;5;28;01mreturn\u001b[39;00m col_header \u001b[38;5;241m+\u001b[39m adjoined\n\u001b[0;32m    997\u001b[0m \u001b[38;5;28;01melse\u001b[39;00m:\n",
      "File \u001b[1;32mc:\\Users\\Colette D'Costa\\AppData\\Local\\Programs\\Python\\Python312\\Lib\\site-packages\\pandas\\io\\formats\\csvs.py:89\u001b[0m, in \u001b[0;36mCSVFormatter.__init__\u001b[1;34m(self, formatter, path_or_buf, sep, cols, index_label, mode, encoding, errors, compression, quoting, lineterminator, chunksize, quotechar, date_format, doublequote, escapechar, storage_options)\u001b[0m\n\u001b[0;32m     87\u001b[0m \u001b[38;5;28mself\u001b[39m\u001b[38;5;241m.\u001b[39mlineterminator \u001b[38;5;241m=\u001b[39m lineterminator \u001b[38;5;129;01mor\u001b[39;00m os\u001b[38;5;241m.\u001b[39mlinesep\n\u001b[0;32m     88\u001b[0m \u001b[38;5;28mself\u001b[39m\u001b[38;5;241m.\u001b[39mdate_format \u001b[38;5;241m=\u001b[39m date_format\n\u001b[1;32m---> 89\u001b[0m \u001b[38;5;28mself\u001b[39m\u001b[38;5;241m.\u001b[39mcols \u001b[38;5;241m=\u001b[39m \u001b[38;5;28;43mself\u001b[39;49m\u001b[38;5;241;43m.\u001b[39;49m\u001b[43m_initialize_columns\u001b[49m\u001b[43m(\u001b[49m\u001b[43mcols\u001b[49m\u001b[43m)\u001b[49m\n\u001b[0;32m     90\u001b[0m \u001b[38;5;28mself\u001b[39m\u001b[38;5;241m.\u001b[39mchunksize \u001b[38;5;241m=\u001b[39m \u001b[38;5;28mself\u001b[39m\u001b[38;5;241m.\u001b[39m_initialize_chunksize(chunksize)\n",
      "File \u001b[1;32mc:\\Users\\Colette D'Costa\\AppData\\Local\\Programs\\Python\\Python312\\Lib\\site-packages\\pandas\\io\\formats\\csvs.py:161\u001b[0m, in \u001b[0;36mCSVFormatter._initialize_columns\u001b[1;34m(self, cols)\u001b[0m\n\u001b[0;32m    158\u001b[0m \u001b[38;5;66;03m# update columns to include possible multiplicity of dupes\u001b[39;00m\n\u001b[0;32m    159\u001b[0m \u001b[38;5;66;03m# and make sure cols is just a list of labels\u001b[39;00m\n\u001b[0;32m    160\u001b[0m new_cols \u001b[38;5;241m=\u001b[39m \u001b[38;5;28mself\u001b[39m\u001b[38;5;241m.\u001b[39mobj\u001b[38;5;241m.\u001b[39mcolumns\n\u001b[1;32m--> 161\u001b[0m \u001b[38;5;28;01mreturn\u001b[39;00m \u001b[43mnew_cols\u001b[49m\u001b[38;5;241;43m.\u001b[39;49m\u001b[43m_format_native_types\u001b[49m(\u001b[38;5;241m*\u001b[39m\u001b[38;5;241m*\u001b[39m\u001b[38;5;28mself\u001b[39m\u001b[38;5;241m.\u001b[39m_number_format)\n",
      "\u001b[1;31mAttributeError\u001b[0m: 'Index' object has no attribute '_format_native_types'"
     ]
    }
   ],
   "source": [
    "# Save as CSV\n",
    "# Reset the index to avoid any issues with the DataFrame's structure\n",
    "ingr_map = ingr_map.reset_index(drop=True)\n",
    "\n",
    "ingr_map.to_csv('../my_app/data/ingr_map.csv', index=False)\n",
    "\n",
    "# Save as Parquet (for large datasets)\n",
    "ingr_map.to_parquet('../my_app/data/ingr_map.parquet', index=False)\n"
   ]
  }
 ],
 "metadata": {
  "kernelspec": {
   "display_name": "Python 3",
   "language": "python",
   "name": "python3"
  },
  "language_info": {
   "codemirror_mode": {
    "name": "ipython",
    "version": 3
   },
   "file_extension": ".py",
   "mimetype": "text/x-python",
   "name": "python",
   "nbconvert_exporter": "python",
   "pygments_lexer": "ipython3",
   "version": "3.12.4"
  }
 },
 "nbformat": 4,
 "nbformat_minor": 2
}
